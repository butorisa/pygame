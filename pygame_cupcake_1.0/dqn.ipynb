{
 "cells": [
  {
   "cell_type": "code",
   "execution_count": null,
   "metadata": {
    "scrolled": true
   },
   "outputs": [],
   "source": [
    "from keras.models import Sequential\n",
    "from keras.layers import Dense, Flatten, Conv2D, Reshape\n",
    "from keras.optimizers import Adam\n",
    "from keras.regularizers import l2\n",
    "\n",
    "from rl.agents.dqn import DQNAgent\n",
    "from rl.policy import EpsGreedyQPolicy\n",
    "from rl.memory import SequentialMemory\n",
    "import cupcake_game\n",
    "\n",
    "# ゲームクラスをロード\n",
    "env = cupcake_game.Game(step=True, image=True)\n",
    "# プレイヤーの行動種類数（上下左右の移動）\n",
    "nb_actions = 4\n",
    "\n",
    "# CNNで使うパラメータ\n",
    "hidden_size = 128\n",
    "n_filters = 8\n",
    "kernel = (13, 13)\n",
    "strides = (3, 3)\n",
    "\n",
    "# CNNモデル\n",
    "model = Sequential()\n",
    "model.add(Reshape((env.observation_space.shape), input_shape=(1,) + env.observation_space.shape))\n",
    "model.add(Conv2D(n_filters, kernel, strides=strides, activation='relu', padding='same'))\n",
    "model.add(Conv2D(n_filters, kernel, strides=strides, activation='relu', padding='same'))\n",
    "model.add(Conv2D(n_filters, kernel, strides=strides, activation='relu', padding='same'))\n",
    "model.add(Flatten())\n",
    "model.add(Dense(hidden_size, kernel_initializer='he_normal', activation='relu',\n",
    "                kernel_regularizer=l2(0.01)))\n",
    "model.add(Dense(hidden_size, kernel_initializer='he_normal', activation='relu',\n",
    "                kernel_regularizer=l2(0.01)))\n",
    "model.add(Dense(hidden_size, kernel_initializer='he_normal', activation='relu',\n",
    "                kernel_regularizer=l2(0.01)))\n",
    "model.add(Dense(nb_actions, activation='linear'))\n",
    "print(model.summary())\n",
    "\n",
    "memory = SequentialMemory(limit=100000, window_length=1)\n",
    "policy = EpsGreedyQPolicy(eps=0.001)\n",
    "\n",
    "# DQNモデル\n",
    "dqn = DQNAgent(model=model, nb_actions=nb_actions, gamma=0.99, memory=memory, nb_steps_warmup=100,\n",
    "               target_model_update=1e-2, policy=policy)\n",
    "\n",
    "dqn.compile(Adam(lr=1e-3), metrics=['mae'])\n",
    "\n",
    "# パラメータの重みを保存しているファイル\n",
    "fname = \"cupcake_dqn_weights.bin\"\n",
    "try:\n",
    "    dqn.load_weights(fname)\n",
    "    print(\"Weights are loaded.\")\n",
    "except:\n",
    "    print(\"Weights are NOT loaded.\")\n",
    "\n",
    "# 学習実行\n",
    "history = dqn.fit(env, nb_steps=20000, verbose=2)\n",
    "\n",
    "dqn.save_weights(fname, overwrite=True)\n",
    "\n",
    "# テスト実行\n",
    "dqn.test(env, nb_episodes=10)"
   ]
  },
  {
   "cell_type": "code",
   "execution_count": null,
   "metadata": {},
   "outputs": [],
   "source": []
  }
 ],
 "metadata": {
  "kernelspec": {
   "display_name": "Python 3",
   "language": "python",
   "name": "python3"
  },
  "language_info": {
   "codemirror_mode": {
    "name": "ipython",
    "version": 3
   },
   "file_extension": ".py",
   "mimetype": "text/x-python",
   "name": "python",
   "nbconvert_exporter": "python",
   "pygments_lexer": "ipython3",
   "version": "3.7.6"
  }
 },
 "nbformat": 4,
 "nbformat_minor": 4
}
